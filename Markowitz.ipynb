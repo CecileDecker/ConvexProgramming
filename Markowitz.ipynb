{
 "cells": [
  {
   "cell_type": "code",
   "execution_count": 1,
   "metadata": {},
   "outputs": [],
   "source": [
    "from math import *\n",
    "import cvxpy as cp\n",
    "import numpy as np\n",
    "import matplotlib.pyplot as plt\n",
    "import pandas as pd\n",
    "import csv"
   ]
  },
  {
   "cell_type": "markdown",
   "metadata": {},
   "source": [
    "5. Markowitz Portfolio Selection"
   ]
  },
  {
   "attachments": {},
   "cell_type": "markdown",
   "metadata": {},
   "source": [
    "(i) Importing the prices and defining useful variables"
   ]
  },
  {
   "cell_type": "code",
   "execution_count": 2,
   "metadata": {},
   "outputs": [],
   "source": [
    "# Importing the adjusted prices\n",
    "prices = pd.read_csv(r'AdjustedPrices.csv')\n",
    "prices = prices.set_index('Date', drop = True)\n",
    "PRICES = prices.values"
   ]
  },
  {
   "cell_type": "code",
   "execution_count": 3,
   "metadata": {},
   "outputs": [],
   "source": [
    "# Computing the returns\n",
    "Ret = prices / prices.shift(1) - 1\n",
    "Ret = Ret.drop(labels=Ret.index[0], axis=0)\n",
    "RET = Ret.values"
   ]
  },
  {
   "cell_type": "code",
   "execution_count": 4,
   "metadata": {},
   "outputs": [],
   "source": [
    "# Average return\n",
    "p = Ret.mean()\n",
    "P = p.values"
   ]
  },
  {
   "cell_type": "code",
   "execution_count": 5,
   "metadata": {},
   "outputs": [],
   "source": [
    "# Sample covariance matrix\n",
    "Cov = pd.DataFrame(Ret.iloc[0] - p) @ pd.DataFrame(Ret.iloc[0] - p).T\n",
    "for i in range(1, len(Ret.index)):\n",
    "    Cov += pd.DataFrame(Ret.iloc[i] - p) @ pd.DataFrame(Ret.iloc[i] - p).T\n",
    "Cov = Cov / (len(Ret.index) - 1)\n",
    "COV = Cov.values"
   ]
  },
  {
   "attachments": {},
   "cell_type": "markdown",
   "metadata": {},
   "source": [
    "(iii) Portfolio Selection"
   ]
  },
  {
   "cell_type": "code",
   "execution_count": 6,
   "metadata": {},
   "outputs": [],
   "source": [
    "B   = 1\n",
    "one = np.array([1 for i in range(len(Ret.columns))])\n",
    "\n",
    "R_range = np.logspace(-6, 0, num=100)\n",
    "\n",
    "Result = []\n",
    "X      = []\n",
    "for R in R_range:\n",
    "    # Construct the problem.\n",
    "    x_ = cp.Variable(len(Ret.columns))\n",
    "    objective = cp.Maximize(np.transpose(P) @ x_)\n",
    "    constraints = [x_ @ COV @ x_ <= R, (np.transpose(one) @ x_) <= B, x_ >= 0]\n",
    "    prob = cp.Problem(objective, constraints)\n",
    "    # Solve\n",
    "    result    = prob.solve()\n",
    "    Result += [result]\n",
    "    X      += [x_.value]"
   ]
  },
  {
   "cell_type": "code",
   "execution_count": 7,
   "metadata": {},
   "outputs": [
    {
     "data": {
      "text/plain": [
       "[<matplotlib.lines.Line2D at 0x2513b162950>]"
      ]
     },
     "execution_count": 7,
     "metadata": {},
     "output_type": "execute_result"
    },
    {
     "data": {
      "image/png": "[encoded data removed]",
      "text/plain": [
       "<Figure size 640x480 with 1 Axes>"
      ]
     },
     "metadata": {},
     "output_type": "display_data"
    }
   ],
   "source": [
    "plt.xscale(\"log\")\n",
    "plt.plot(R_range, Result)"
   ]
  },
  {
   "attachments": {},
   "cell_type": "markdown",
   "metadata": {},
   "source": [
    "First of all we can observe that if we allow more \"Variance & Covariance\" we will also get a better portfolio return. We see the expected return growing with R, more or less exponentially, at first when R is between $10^{-6}$ and a bit less than $10^{-1}$. After that the return stay constant."
   ]
  },
  {
   "attachments": {},
   "cell_type": "markdown",
   "metadata": {},
   "source": [
    "(iv) Specific portfolio"
   ]
  },
  {
   "cell_type": "code",
   "execution_count": 9,
   "metadata": {},
   "outputs": [
    {
     "name": "stdout",
     "output_type": "stream",
     "text": [
      "           0.000001      0.000100      0.010000      1.000000\n",
      "AAPL   8.673872e-08  1.554109e-09  6.361654e-09  1.219663e-10\n",
      "MSFT   9.412502e-08  1.680397e-09  5.068134e-09  7.812153e-11\n",
      "AMZN   2.211892e-08  4.273241e-10  2.077440e-09  4.590511e-11\n",
      "NVDA   1.574773e-03  1.574462e-02  8.539710e-02  2.250862e-10\n",
      "TSLA   1.481081e-03  1.481084e-02  3.563916e-01  1.000000e+00\n",
      "BRK-B  3.638037e-08  7.016190e-10  2.814396e-09  4.373051e-11\n",
      "GOOG   3.922205e-08  7.369042e-10  2.836913e-09  5.217135e-11\n",
      "XOM    1.869287e-05  1.970747e-04  4.276014e-09  6.236433e-11\n",
      "UNH    1.867678e-07  2.952422e-09  4.998327e-09  6.523303e-11\n",
      "JPM    5.325501e-08  8.991565e-10  2.985315e-09  4.697670e-11\n",
      "JNJ    2.272311e-08  4.655075e-10  2.560913e-09  3.764519e-11\n",
      "META   5.983323e-08  9.638741e-10  2.395935e-09  4.402736e-11\n",
      "V      7.294782e-08  1.233448e-09  3.501216e-09  5.442318e-11\n",
      "PG     7.644377e-03  7.643824e-02  4.702400e-09  5.016765e-11\n",
      "HD     8.016134e-08  1.324421e-09  3.517937e-09  5.391917e-11\n",
      "MA     1.033373e-07  1.562751e-09  3.908739e-09  6.283524e-11\n",
      "CVX    5.159536e-08  9.388018e-10  3.499147e-09  5.693493e-11\n",
      "ABBV   1.040207e-03  1.040979e-02  5.819174e-09  5.897824e-11\n",
      "MRK    1.828135e-03  1.828498e-02  6.381075e-09  6.188449e-11\n",
      "LLY    7.218047e-03  7.217217e-02  5.582112e-01  1.308384e-10\n",
      "AVGO   1.327816e-07  2.106028e-09  7.120208e-09  9.338175e-11\n",
      "BAC    2.518816e-08  4.666357e-10  2.380815e-09  4.511831e-11\n",
      "PEP    8.828202e-08  1.672136e-09  3.672168e-09  4.790410e-11\n",
      "KO     1.167441e-07  1.969078e-09  3.364710e-09  4.330504e-11\n",
      "PFE    2.858482e-08  5.751479e-10  3.168641e-09  4.323384e-11\n",
      "COST   6.305346e-04  6.323182e-03  5.718984e-09  7.478145e-11\n",
      "TMO    1.876453e-07  2.974848e-09  5.610547e-09  7.191604e-11\n",
      "WMT    9.495903e-08  1.875330e-09  3.399857e-09  4.592932e-11\n",
      "CSCO   1.967951e-08  3.986982e-10  2.700405e-09  4.160250e-11\n",
      "MCD    4.715770e-07  6.293425e-09  3.631973e-09  4.989068e-11\n"
     ]
    }
   ],
   "source": [
    "Positions = pd.DataFrame(0, index=Ret.columns, columns=[1e-6, 1e-4, 1e-2, 1e0])\n",
    "for R_ in Positions.columns:\n",
    "    ind = 0\n",
    "    for i in range(len(R_range)):\n",
    "        if R_range[i] == R_:\n",
    "            ind = i\n",
    "    Positions.loc[:,R_] = pd.Series(X[ind], index=Ret.columns)\n",
    "\n",
    "print(Positions)"
   ]
  },
  {
   "attachments": {},
   "cell_type": "markdown",
   "metadata": {},
   "source": [
    "We observe that the portfolio is less and less diversified with R increasing. At first for $R=10^{-6}$, we can see a lot of positions around $10^{-3}$, and the majority around $10^{-7}\\ or\\ 10^{-8}$ (which we can assume are negligeable). Then the difference between the \"high\" position and the low one will increase and the number of \"non-negligeable\" positions is globally decreasing. Leading to at the end, for $R=10^0$, only really low position (negligeable one) and a single big one, equal to $1$, for TESLA."
   ]
  }
 ],
 "metadata": {
  "kernelspec": {
   "display_name": "Python 3",
   "language": "python",
   "name": "python3"
  },
  "language_info": {
   "codemirror_mode": {
    "name": "ipython",
    "version": 3
   },
   "file_extension": ".py",
   "mimetype": "text/x-python",
   "name": "python",
   "nbconvert_exporter": "python",
   "pygments_lexer": "ipython3",
   "version": "3.10.10"
  },
  "orig_nbformat": 4
 },
 "nbformat": 4,
 "nbformat_minor": 2
}
