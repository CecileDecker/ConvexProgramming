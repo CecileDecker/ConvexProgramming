{
 "cells": [
  {
   "cell_type": "code",
   "execution_count": 2,
   "metadata": {},
   "outputs": [],
   "source": [
    "from math import *\n",
    "import cvxpy as cp\n",
    "import numpy as np\n",
    "import matplotlib.pyplot as plt\n",
    "import pandas as pd\n",
    "import csv"
   ]
  },
  {
   "cell_type": "markdown",
   "metadata": {},
   "source": [
    "5. Markowitz Portfolio Selection"
   ]
  },
  {
   "attachments": {},
   "cell_type": "markdown",
   "metadata": {},
   "source": [
    "(i) Importing the prices and defining useful variables"
   ]
  },
  {
   "cell_type": "code",
   "execution_count": 107,
   "metadata": {},
   "outputs": [],
   "source": [
    "# Importing the adjusted prices\n",
    "prices = pd.read_csv(r'AdjustedPrices.csv')\n",
    "prices = prices.set_index('Date', drop = True)"
   ]
  },
  {
   "cell_type": "code",
   "execution_count": 54,
   "metadata": {},
   "outputs": [],
   "source": [
    "# Computing the returns\n",
    "Ret = (prices - prices.shift(1)) / prices.shift(1)\n",
    "Ret = Ret.drop(labels=Ret.index[0], axis=0)\n",
    "RET = Ret.values"
   ]
  },
  {
   "cell_type": "code",
   "execution_count": 55,
   "metadata": {},
   "outputs": [],
   "source": [
    "# Average return\n",
    "p = Ret.mean()\n",
    "P = p.values"
   ]
  },
  {
   "cell_type": "code",
   "execution_count": 56,
   "metadata": {},
   "outputs": [],
   "source": [
    "# Sample covariance matrix\n",
    "Sigma = (pd.DataFrame(Ret.sub(p).sum(0)).dot(pd.DataFrame(Ret.sub(p).sum(0)).T)) * (1/(len(Ret.index) - 1))\n",
    "SIGMA = Sigma.values"
   ]
  },
  {
   "attachments": {},
   "cell_type": "markdown",
   "metadata": {},
   "source": [
    "(iii) Portfolio Selection"
   ]
  },
  {
   "cell_type": "code",
   "execution_count": 108,
   "metadata": {},
   "outputs": [],
   "source": [
    "B   = 1\n",
    "one = np.array([1 for i in range(len(Ret.columns))])\n",
    "\n",
    "R_range = np.logspace(-6, 0, num=100)\n",
    "\n",
    "Result = []\n",
    "X      = []\n",
    "for R in R_range:\n",
    "    # Construct the problem.\n",
    "    x_ = cp.Variable(len(Ret.columns))\n",
    "    objective = cp.Maximize(np.transpose(P) @ x_)\n",
    "    constraints = [(x_ @ SIGMA @ x_) <= R, (np.transpose(one) @ x_) <= B, x_ >= 0]\n",
    "    prob = cp.Problem(objective, constraints)\n",
    "    # Solve\n",
    "    result    = prob.solve()\n",
    "    Result += [result]\n",
    "    X      += [x_.value]"
   ]
  },
  {
   "cell_type": "code",
   "execution_count": 109,
   "metadata": {},
   "outputs": [
    {
     "data": {
      "text/plain": [
       "[<matplotlib.lines.Line2D at 0x2258abefc10>]"
      ]
     },
     "execution_count": 109,
     "metadata": {},
     "output_type": "execute_result"
    },
    {
     "data": {
      "image/png": "[encoded data removed]",
      "text/plain": [
       "<Figure size 640x480 with 1 Axes>"
      ]
     },
     "metadata": {},
     "output_type": "display_data"
    }
   ],
   "source": [
    "plt.xscale(\"log\")\n",
    "plt.plot(R_range, Result)"
   ]
  },
  {
   "attachments": {},
   "cell_type": "markdown",
   "metadata": {},
   "source": [
    "(iv) Specific portfolio"
   ]
  },
  {
   "cell_type": "code",
   "execution_count": 104,
   "metadata": {},
   "outputs": [],
   "source": [
    "R_ = 10**(-1)"
   ]
  },
  {
   "cell_type": "code",
   "execution_count": 105,
   "metadata": {},
   "outputs": [
    {
     "data": {
      "text/plain": [
       "array([4.41226094e-12, 1.07421714e-11, 1.60231886e-11, 1.91072845e-11,\n",
       "       1.00000000e+00, 1.60330421e-11, 1.50780742e-11, 1.36238826e-11,\n",
       "       1.27920964e-11, 1.57166437e-11, 1.64394667e-11, 1.61106878e-11,\n",
       "       1.47494564e-11, 1.49064396e-11, 1.48030419e-11, 1.35650474e-11,\n",
       "       1.45569785e-11, 1.36657052e-11, 1.30856315e-11, 2.40954107e-12,\n",
       "       8.46622783e-12, 1.60847660e-11, 1.53537414e-11, 1.59838577e-11,\n",
       "       1.59980880e-11, 1.12325573e-11, 1.16921130e-11, 1.55583376e-11,\n",
       "       1.62947572e-11, 1.51078254e-11])"
      ]
     },
     "execution_count": 105,
     "metadata": {},
     "output_type": "execute_result"
    }
   ],
   "source": [
    "ind = 0\n",
    "for i in range(len(R_range)):\n",
    "    if R_range[i] == R:\n",
    "        ind = i\n",
    "X[ind]"
   ]
  },
  {
   "attachments": {},
   "cell_type": "markdown",
   "metadata": {},
   "source": [
    "We observe that the portfolio tend to have a position of zero for every stocks except the 5th one corresponding to \"TSLA\" (Tesla)"
   ]
  }
 ],
 "metadata": {
  "kernelspec": {
   "display_name": "Python 3",
   "language": "python",
   "name": "python3"
  },
  "language_info": {
   "codemirror_mode": {
    "name": "ipython",
    "version": 3
   },
   "file_extension": ".py",
   "mimetype": "text/x-python",
   "name": "python",
   "nbconvert_exporter": "python",
   "pygments_lexer": "ipython3",
   "version": "3.10.10"
  },
  "orig_nbformat": 4
 },
 "nbformat": 4,
 "nbformat_minor": 2
}
