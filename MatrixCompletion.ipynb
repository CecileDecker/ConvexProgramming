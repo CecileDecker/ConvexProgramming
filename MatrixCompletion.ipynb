{
 "cells": [
  {
   "cell_type": "code",
   "execution_count": 1,
   "metadata": {},
   "outputs": [],
   "source": [
    "from math import *\n",
    "import cvxpy as cp\n",
    "import numpy as np\n",
    "import matplotlib.pyplot as plt\n",
    "from typing import Tuple"
   ]
  },
  {
   "attachments": {},
   "cell_type": "markdown",
   "metadata": {},
   "source": [
    "6. Matrix Completion"
   ]
  },
  {
   "attachments": {},
   "cell_type": "markdown",
   "metadata": {},
   "source": [
    "(ii) Define the useful matrices and all"
   ]
  },
  {
   "cell_type": "code",
   "execution_count": 2,
   "metadata": {},
   "outputs": [],
   "source": [
    "# Generate a random matrix, for which each entry is an iid random variable \n",
    "# drawn from the standard normal distribution\n",
    "\n",
    "def A(m, n):\n",
    "    A = np.array([[np.random.normal() for i in range(n)] for j in range(m)])\n",
    "    return A"
   ]
  },
  {
   "cell_type": "code",
   "execution_count": 3,
   "metadata": {},
   "outputs": [],
   "source": [
    "r = 2\n",
    "m = 100\n",
    "n = 100\n",
    "U = A(m, r)\n",
    "V = A(n, r)\n",
    "\n",
    "Z = U @ np.transpose(V)"
   ]
  },
  {
   "cell_type": "code",
   "execution_count": 4,
   "metadata": {},
   "outputs": [],
   "source": [
    "# Now generate the Omegas\n",
    "def Omegas(m, n, s):\n",
    "    Om = [[0 for i in range(m)] for j in range(n)]\n",
    "    OM = []\n",
    "    for k in range(s):\n",
    "        i = np.random.random_integers(0, m-1)\n",
    "        j = np.random.random_integers(0, n-1)\n",
    "        while Om[i][j] != 0:\n",
    "            i = np.random.random_integers(0, m-1)\n",
    "            j = np.random.random_integers(0, n-1)\n",
    "        Om[i][j] = 1\n",
    "        OM += [(i,j)]\n",
    "    return(Om, OM)"
   ]
  },
  {
   "cell_type": "code",
   "execution_count": 5,
   "metadata": {},
   "outputs": [],
   "source": [
    "K_range = [i for i in range(100, 4100, 100)]"
   ]
  },
  {
   "attachments": {},
   "cell_type": "markdown",
   "metadata": {},
   "source": [
    "(iii) Solving and plots"
   ]
  },
  {
   "cell_type": "code",
   "execution_count": 6,
   "metadata": {},
   "outputs": [
    {
     "name": "stderr",
     "output_type": "stream",
     "text": [
      "C:\\Users\\cecil\\AppData\\Local\\Temp\\ipykernel_19612\\1326060934.py:6: DeprecationWarning: This function is deprecated. Please call randint(0, 99 + 1) instead\n",
      "  i = np.random.random_integers(0, m-1)\n",
      "C:\\Users\\cecil\\AppData\\Local\\Temp\\ipykernel_19612\\1326060934.py:7: DeprecationWarning: This function is deprecated. Please call randint(0, 99 + 1) instead\n",
      "  j = np.random.random_integers(0, n-1)\n",
      "C:\\Users\\cecil\\AppData\\Local\\Temp\\ipykernel_19612\\1326060934.py:9: DeprecationWarning: This function is deprecated. Please call randint(0, 99 + 1) instead\n",
      "  i = np.random.random_integers(0, m-1)\n",
      "C:\\Users\\cecil\\AppData\\Local\\Temp\\ipykernel_19612\\1326060934.py:10: DeprecationWarning: This function is deprecated. Please call randint(0, 99 + 1) instead\n",
      "  j = np.random.random_integers(0, n-1)\n"
     ]
    }
   ],
   "source": [
    "MSE = []\n",
    "for K in K_range:\n",
    "    # Variables\n",
    "    Om, OM = Omegas(m, n, K)\n",
    "    # Construct the problem\n",
    "    x_ = cp.Variable((m, n))\n",
    "    objective = cp.Minimize(cp.norm(x_, 'nuc'))\n",
    "    constraints = [x_[i][j] == Z[i][j] for (i,j) in OM]\n",
    "    prob = cp.Problem(objective, constraints)\n",
    "    # Solve\n",
    "    result = prob.solve()\n",
    "    X      = x_.value\n",
    "    mse  = 0\n",
    "    for i in range(m):\n",
    "        for j in range(n):\n",
    "            if Om[i][j] == 0:\n",
    "                mse += (X[i][j] - Z[i][j])**2\n",
    "    MSE = MSE + [mse / (m*n - K)] "
   ]
  },
  {
   "cell_type": "code",
   "execution_count": 7,
   "metadata": {},
   "outputs": [
    {
     "name": "stdout",
     "output_type": "stream",
     "text": [
      "[1.645448758306801, 1.6391099692063882, 1.4506250781916235, 1.1496341385147384, 0.8083935740299971, 0.6987245556905418, 0.44071670357620046, 0.4536818541140566, 0.27069161074188386, 0.19602335826373338, 0.03767427106098243, 0.09268648729116953, 0.013290373013410895, 0.01593980106822103, 0.03429063258212356, 0.03573739684651468, 0.02393636472176973, 0.003402049361462649, 0.010032627654242605, 1.919266594644266e-10, 4.3186494253815466e-11, 0.007839075478368922, 5.2472041607360696e-11, 1.2517703537662604e-11, 0.004296763451232763, 1.1681856993597382e-11, 8.786681569874783e-12, 3.676253223769635e-10, 8.115647867078158e-11, 1.546380017864972e-10, 2.76314535054821e-10, 9.011882061396166e-12, 1.7710311403060095e-11, 4.896380736904336e-10, 3.122276575742333e-10, 2.12899586090126e-10, 1.5541215685699108e-10, 5.060696799277351e-12, 1.247334919217473e-12, 5.545288213647204e-11]\n"
     ]
    }
   ],
   "source": [
    "print(MSE)"
   ]
  },
  {
   "cell_type": "code",
   "execution_count": 8,
   "metadata": {},
   "outputs": [
    {
     "data": {
      "text/plain": [
       "[<matplotlib.lines.Line2D at 0x20f8e521480>]"
      ]
     },
     "execution_count": 8,
     "metadata": {},
     "output_type": "execute_result"
    },
    {
     "data": {
      "image/png": "[encoded data removed]",
      "text/plain": [
       "<Figure size 640x480 with 1 Axes>"
      ]
     },
     "metadata": {},
     "output_type": "display_data"
    }
   ],
   "source": [
    "plt.plot(K_range, MSE)"
   ]
  }
 ],
 "metadata": {
  "kernelspec": {
   "display_name": "Python 3",
   "language": "python",
   "name": "python3"
  },
  "language_info": {
   "codemirror_mode": {
    "name": "ipython",
    "version": 3
   },
   "file_extension": ".py",
   "mimetype": "text/x-python",
   "name": "python",
   "nbconvert_exporter": "python",
   "pygments_lexer": "ipython3",
   "version": "3.10.10"
  },
  "orig_nbformat": 4
 },
 "nbformat": 4,
 "nbformat_minor": 2
}
