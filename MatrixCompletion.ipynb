{
 "cells": [
  {
   "cell_type": "code",
   "execution_count": 1,
   "metadata": {},
   "outputs": [],
   "source": [
    "from math import *\n",
    "import cvxpy as cp\n",
    "import numpy as np\n",
    "import matplotlib.pyplot as plt\n",
    "from typing import Tuple"
   ]
  },
  {
   "attachments": {},
   "cell_type": "markdown",
   "metadata": {},
   "source": [
    "6. Matrix Completion"
   ]
  },
  {
   "attachments": {},
   "cell_type": "markdown",
   "metadata": {},
   "source": [
    "(ii) Define the useful matrices and all"
   ]
  },
  {
   "cell_type": "code",
   "execution_count": 2,
   "metadata": {},
   "outputs": [],
   "source": [
    "# Generate a random matrix, for which each entry is an iid random variable \n",
    "# drawn from the standard normal distribution\n",
    "\n",
    "def A(m, n):\n",
    "    A = np.array([[np.random.normal() for i in range(n)] for j in range(m)])\n",
    "    return A"
   ]
  },
  {
   "cell_type": "code",
   "execution_count": 3,
   "metadata": {},
   "outputs": [],
   "source": [
    "r = 2\n",
    "m = 100\n",
    "n = 100\n",
    "U = A(m, r)\n",
    "V = A(n, r)\n",
    "\n",
    "Z = U @ np.transpose(V)"
   ]
  },
  {
   "cell_type": "code",
   "execution_count": 7,
   "metadata": {},
   "outputs": [],
   "source": [
    "# Now generate the Omegas\n",
    "def Omegas(m, n, s):\n",
    "    Om = [[0 for i in range(m)] for j in range(n)]\n",
    "    OM = []\n",
    "    for k in range(s):\n",
    "        i = np.random.random_integers(0, m-1)\n",
    "        j = np.random.random_integers(0, n-1)\n",
    "        while Om[i][j] != 0:\n",
    "            i = np.random.random_integers(0, m-1)\n",
    "            j = np.random.random_integers(0, n-1)\n",
    "        Om[i][j] = 1\n",
    "        OM += [(i,j)]\n",
    "    return(Om, OM)"
   ]
  },
  {
   "cell_type": "code",
   "execution_count": 5,
   "metadata": {},
   "outputs": [],
   "source": [
    "K_range = [i for i in range(100, 4100, 100)]"
   ]
  },
  {
   "attachments": {},
   "cell_type": "markdown",
   "metadata": {},
   "source": [
    "(iii) Solving and plots"
   ]
  },
  {
   "cell_type": "code",
   "execution_count": 10,
   "metadata": {},
   "outputs": [
    {
     "name": "stderr",
     "output_type": "stream",
     "text": [
      "C:\\Users\\cecil\\AppData\\Local\\Temp\\ipykernel_25320\\1326060934.py:6: DeprecationWarning: This function is deprecated. Please call randint(0, 99 + 1) instead\n",
      "  i = np.random.random_integers(0, m-1)\n",
      "C:\\Users\\cecil\\AppData\\Local\\Temp\\ipykernel_25320\\1326060934.py:7: DeprecationWarning: This function is deprecated. Please call randint(0, 99 + 1) instead\n",
      "  j = np.random.random_integers(0, n-1)\n",
      "C:\\Users\\cecil\\AppData\\Local\\Temp\\ipykernel_25320\\1326060934.py:9: DeprecationWarning: This function is deprecated. Please call randint(0, 99 + 1) instead\n",
      "  i = np.random.random_integers(0, m-1)\n",
      "C:\\Users\\cecil\\AppData\\Local\\Temp\\ipykernel_25320\\1326060934.py:10: DeprecationWarning: This function is deprecated. Please call randint(0, 99 + 1) instead\n",
      "  j = np.random.random_integers(0, n-1)\n"
     ]
    }
   ],
   "source": [
    "MSE = []\n",
    "for K in K_range:\n",
    "    # Variables\n",
    "    Om, OM = Omegas(m, n, K)\n",
    "    # Construct the problem\n",
    "    x_ = cp.Variable((m, n))\n",
    "    objective = cp.Minimize(cp.norm(x_, 'nuc'))\n",
    "    constraints = [x_[i][j] == Z[i][j] for (i,j) in OM]\n",
    "    prob = cp.Problem(objective, constraints)\n",
    "    # Solve\n",
    "    result = prob.solve()\n",
    "    X      = x_.value\n",
    "    mse  = 0\n",
    "    for i in range(m):\n",
    "        for j in range(n):\n",
    "            if Om[i][j] == 0:\n",
    "                mse += (X[i][j] - Z[i][j])**2\n",
    "    MSE += mse / (m*n - K)"
   ]
  },
  {
   "cell_type": "code",
   "execution_count": null,
   "metadata": {},
   "outputs": [],
   "source": [
    "plt.plot(K, MSE)"
   ]
  }
 ],
 "metadata": {
  "kernelspec": {
   "display_name": "Python 3",
   "language": "python",
   "name": "python3"
  },
  "language_info": {
   "codemirror_mode": {
    "name": "ipython",
    "version": 3
   },
   "file_extension": ".py",
   "mimetype": "text/x-python",
   "name": "python",
   "nbconvert_exporter": "python",
   "pygments_lexer": "ipython3",
   "version": "3.10.10"
  },
  "orig_nbformat": 4
 },
 "nbformat": 4,
 "nbformat_minor": 2
}
